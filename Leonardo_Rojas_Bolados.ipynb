{
 "cells": [
  {
   "cell_type": "markdown",
   "metadata": {},
   "source": [
    "<center>\n",
    "    <img src=\"https://cf-courses-data.s3.us.cloud-object-storage.appdomain.cloud/IBMDeveloperSkillsNetwork-DS0105EN-SkillsNetwork/labs/Module2/images/SN_web_lightmode.png\" width=\"300\" alt=\"cognitiveclass.ai logo\">\n",
    "</center>\n"
   ]
  },
  {
   "cell_type": "markdown",
   "metadata": {},
   "source": [
    "#### Add your code below following the instructions given in the course\n"
   ]
  },
  {
   "cell_type": "markdown",
   "metadata": {},
   "source": [
    "print(\"Tarea Unab IBM\")"
   ]
  },
  {
   "cell_type": "markdown",
   "metadata": {},
   "source": [
    "# se realizara la siguiente tarea"
   ]
  },
  {
   "cell_type": "markdown",
   "metadata": {},
   "source": [
    "#  enumerar los lenguajes de la ciencia de datos\n",
    "# Python\n",
    "## R\n",
    "### SQL\n",
    "#### Julia\n",
    "##### Scala\n",
    "###### Java"
   ]
  },
  {
   "cell_type": "markdown",
   "metadata": {},
   "source": [
    "# Ejecutar Lista de Bibliotecas de Ciencia de Datos\n",
    "1. First Panda\n",
    "2. Second NumPy\n",
    "3. Third Matplotlib\n",
    "4. Fourth Scikit-learn\n",
    "5. Five TensorFlow\n",
    "6. Six Keras\n",
    "7. Seven PyTorch\n",
    "8. Eight Statsmodels\n",
    "9. Nine SciPy\n"
   ]
  },
  {
   "cell_type": "markdown",
   "metadata": {},
   "source": [
    "## Ejecutar tabla de herramientas de Ciencia de Datos\n",
    "\n",
    "| Herramienta        | Descripción                                                   | Categoría                     |\n",
    "|--------------------|---------------------------------------------------------------|-------------------------------|\n",
    "| Jupyter Notebook    | Entorno interactivo para escribir código y visualizar datos.  | Desarrollo y análisis          |\n",
    "| RStudio             | Entorno de desarrollo integrado (IDE) para R.                 | Desarrollo y análisis          |\n",
    "| Apache Spark        | Motor de análisis para procesamiento distribuido de datos.    | Procesamiento de grandes datos |\n",
    "| Tableau             | Herramienta de visualización de datos interactivos.           | Visualización                  |\n",
    "| Power BI            | Herramienta para visualización y análisis de datos empresariales. | Visualización              |\n",
    "| Hadoop              | Framework para almacenamiento y procesamiento distribuido de grandes volúmenes de datos. | Procesamiento de grandes datos |\n",
    "| TensorFlow          | Framework para el desarrollo de modelos de aprendizaje profundo. | Machine Learning              |\n",
    "| KNIME               | Plataforma de análisis de datos visuales y automatización de flujo de trabajo. | Análisis y flujo de trabajo    |\n",
    "| Google Colab        | Entorno en la nube para ejecutar cuadernos Jupyter.           | Desarrollo y análisis          |\n",
    "| GitHub              | Plataforma para control de versiones y colaboración en proyectos. | Control de versiones          |\n"
   ]
  },
  {
   "cell_type": "markdown",
   "metadata": {},
   "source": [
    "#Ejemplos de Expresiones Aritméticas\n",
    "\n",
    "#A continuación se muestran algunos ejemplos de expresiones aritméticas básicas:\n"
   ]
  },
  {
   "cell_type": "code",
   "execution_count": 3,
   "metadata": {},
   "outputs": [
    {
     "data": {
      "text/plain": [
       "4"
      ]
     },
     "execution_count": 3,
     "metadata": {},
     "output_type": "execute_result"
    }
   ],
   "source": [
    "# Suma\n",
    "2+2"
   ]
  },
  {
   "cell_type": "code",
   "execution_count": 4,
   "metadata": {},
   "outputs": [
    {
     "data": {
      "text/plain": [
       "6"
      ]
     },
     "execution_count": 4,
     "metadata": {},
     "output_type": "execute_result"
    }
   ],
   "source": [
    "# Multiplicación\n",
    "2*3"
   ]
  },
  {
   "cell_type": "code",
   "execution_count": 7,
   "metadata": {},
   "outputs": [
    {
     "name": "stdout",
     "output_type": "stream",
     "text": [
      "150 minutos son 2.5 horas.\n"
     ]
    }
   ],
   "source": [
    "# Conversión de Minutos a Horas A continuación se presenta un código en Python para convertir minutos en horas\n",
    "# Función para convertir minutos en horas\n",
    "def convertir_minutos_a_horas(minutos):\n",
    "    horas = minutos / 60  # Hay 60 minutos en una hora\n",
    "    return horas\n",
    "\n",
    "# Ejemplo de uso\n",
    "minutos = 150  # Cambia este valor para probar con otros minutos\n",
    "horas = convertir_minutos_a_horas(minutos)\n",
    "\n",
    "print(f\"{minutos} minutos son {horas} horas.\")\n",
    "\n"
   ]
  },
  {
   "cell_type": "code",
   "execution_count": 11,
   "metadata": {},
   "outputs": [
    {
     "name": "stdout",
     "output_type": "stream",
     "text": [
      "Aprender los fundamentos de la ciencia de datos.\n",
      "Mejorar las habilidades en programación con Python.\n",
      "Realizar proyectos prácticos de análisis de datos.\n",
      "Explorar y aplicar técnicas de machine learning.\n",
      "Crear visualizaciones efectivas de datos.\n",
      "Colaborar en proyectos de ciencia de datos de código abierto.\n"
     ]
    }
   ],
   "source": [
    "# Lista de objetivos\n",
    "objetivos = [\n",
    "    \"Aprender los fundamentos de la ciencia de datos.\",\n",
    "    \"Mejorar las habilidades en programación con Python.\",\n",
    "    \"Realizar proyectos prácticos de análisis de datos.\",\n",
    "    \"Explorar y aplicar técnicas de machine learning.\",\n",
    "    \"Crear visualizaciones efectivas de datos.\",\n",
    "    \"Colaborar en proyectos de ciencia de datos de código abierto.\"\n",
    "]\n",
    "\n",
    "# Imprimir los objetivos\n",
    "for objetivo in objetivos:\n",
    "    print(objetivo)\n"
   ]
  },
  {
   "cell_type": "markdown",
   "metadata": {},
   "source": [
    "# Autor\n",
    "\n",
    "**Nombre:** Leonardo Rojas Bolados\n"
   ]
  },
  {
   "cell_type": "code",
   "execution_count": null,
   "metadata": {},
   "outputs": [],
   "source": []
  }
 ],
 "metadata": {
  "kernelspec": {
   "display_name": "Python 3 (ipykernel)",
   "language": "python",
   "name": "python3"
  },
  "language_info": {
   "codemirror_mode": {
    "name": "ipython",
    "version": 3
   },
   "file_extension": ".py",
   "mimetype": "text/x-python",
   "name": "python",
   "nbconvert_exporter": "python",
   "pygments_lexer": "ipython3",
   "version": "3.11.9"
  }
 },
 "nbformat": 4,
 "nbformat_minor": 4
}
